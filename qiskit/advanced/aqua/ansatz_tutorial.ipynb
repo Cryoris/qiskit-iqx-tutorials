{
 "cells": [
  {
   "cell_type": "code",
   "execution_count": 1,
   "metadata": {},
   "outputs": [
    {
     "name": "stderr",
     "output_type": "stream",
     "text": [
      "/Users/jul/Work/Qiskit/qiskit-aqua/qiskit/aqua/components/variational_forms/__init__.py:44: DeprecationWarning: This module is deprecated, VariationalForm is replaced by Ansatz, located in qiskit.aqua.components.ansatz\n",
      "  from qiskit.aqua.components.variational_forms.variational_form import VariationalForm\n"
     ]
    }
   ],
   "source": [
    "from qiskit import QuantumCircuit, transpile\n",
    "from qiskit.aqua.components.ansatz import Ansatz, TwoLocalAnsatz, RY, RYRZ, SwapRZ"
   ]
  },
  {
   "cell_type": "markdown",
   "metadata": {},
   "source": [
    "# Ansatz Demo\n",
    "\n",
    "This notebook presents new functionality introduced with Aqua's Ansatz class.\n",
    "\n",
    "The goal of this refactor was to improve the flexibility of Ansatz-type objects, such as variational forms and feature maps, and to simplify the generation of new user-made Ansätze."
   ]
  },
  {
   "cell_type": "markdown",
   "metadata": {},
   "source": [
    "## The standard variational forms\n",
    "\n",
    "Let's start off by playing with one of the standard variational forms, the RY variational form.\n",
    "This Ansatz consists of layers of $Y$ rotations followed by layers of entanglements.\n",
    "\n",
    "Before, all specifications of the Ansatz needed to be present in the initializer (except the parameters). \n",
    "Now, all attributes can be specified at any time. "
   ]
  },
  {
   "cell_type": "code",
   "execution_count": 2,
   "metadata": {},
   "outputs": [],
   "source": [
    "ry = RY()"
   ]
  },
  {
   "cell_type": "markdown",
   "metadata": {},
   "source": [
    "Now an empty blueprint `RY` is created. For all attributes except the number of qubits, default arguments are provided. \n",
    "Therefore by specifying the number of qubits, we can already use the variational form."
   ]
  },
  {
   "cell_type": "code",
   "execution_count": 3,
   "metadata": {},
   "outputs": [
    {
     "data": {
      "text/plain": [
       "        ┌────────┐      ┌────────┐                ┌────────┐                »\n",
       "q_0: |0>┤ Ry(θ0) ├─■──■─┤ Ry(θ3) ├───────────■──■─┤ Ry(θ6) ├───────────■──■─»\n",
       "        ├────────┤ │  │ └────────┘┌────────┐ │  │ └────────┘┌────────┐ │  │ »\n",
       "q_1: |0>┤ Ry(θ1) ├─■──┼─────■─────┤ Ry(θ4) ├─■──┼─────■─────┤ Ry(θ7) ├─■──┼─»\n",
       "        ├────────┤    │     │     ├────────┤    │     │     ├────────┤    │ »\n",
       "q_2: |0>┤ Ry(θ2) ├────■─────■─────┤ Ry(θ5) ├────■─────■─────┤ Ry(θ8) ├────■─»\n",
       "        └────────┘                └────────┘                └────────┘      »\n",
       "«     ┌────────┐           \n",
       "«q_0: ┤ Ry(θ9) ├───────────\n",
       "«     └────────┘┌─────────┐\n",
       "«q_1: ────■─────┤ Ry(θ10) ├\n",
       "«         │     ├─────────┤\n",
       "«q_2: ────■─────┤ Ry(θ11) ├\n",
       "«               └─────────┘"
      ]
     },
     "execution_count": 3,
     "metadata": {},
     "output_type": "execute_result"
    }
   ],
   "source": [
    "ry.num_qubits = 3\n",
    "ry"
   ]
  },
  {
   "cell_type": "markdown",
   "metadata": {},
   "source": [
    "For convenience, printing the Ansatz object to the console draws the circuit diagram. \n",
    "Under the hood, the circuit is constructed using default parameters and transpiled using all standard gates of Terra."
   ]
  },
  {
   "cell_type": "markdown",
   "metadata": {},
   "source": [
    "### Modifying the Ansatz attributes"
   ]
  },
  {
   "cell_type": "markdown",
   "metadata": {},
   "source": [
    "Per default, no barriers are inserted in between the rotation and entanglement layers, since this can influence the performance of transpiling and executing the circuit.\n",
    "To insert barriers, simply set the attribute `insert_barriers` to `True`.\n",
    "The circuit will then be rebuild on demand."
   ]
  },
  {
   "cell_type": "code",
   "execution_count": 4,
   "metadata": {},
   "outputs": [
    {
     "data": {
      "text/plain": [
       "        ┌────────┐ ░           ░ ┌────────┐ ░           ░ ┌────────┐ ░       »\n",
       "q_0: |0>┤ Ry(θ0) ├─░──■──■─────░─┤ Ry(θ3) ├─░──■──■─────░─┤ Ry(θ6) ├─░──■──■─»\n",
       "        ├────────┤ ░  │  │     ░ ├────────┤ ░  │  │     ░ ├────────┤ ░  │  │ »\n",
       "q_1: |0>┤ Ry(θ1) ├─░──■──┼──■──░─┤ Ry(θ4) ├─░──■──┼──■──░─┤ Ry(θ7) ├─░──■──┼─»\n",
       "        ├────────┤ ░     │  │  ░ ├────────┤ ░     │  │  ░ ├────────┤ ░     │ »\n",
       "q_2: |0>┤ Ry(θ2) ├─░─────■──■──░─┤ Ry(θ5) ├─░─────■──■──░─┤ Ry(θ8) ├─░─────■─»\n",
       "        └────────┘ ░           ░ └────────┘ ░           ░ └────────┘ ░       »\n",
       "«         ░  ┌────────┐\n",
       "«q_0: ────░──┤ Ry(θ9) ├\n",
       "«         ░ ┌┴────────┤\n",
       "«q_1: ─■──░─┤ Ry(θ10) ├\n",
       "«      │  ░ ├─────────┤\n",
       "«q_2: ─■──░─┤ Ry(θ11) ├\n",
       "«         ░ └─────────┘"
      ]
     },
     "execution_count": 4,
     "metadata": {},
     "output_type": "execute_result"
    }
   ],
   "source": [
    "ry.insert_barriers = True\n",
    "ry"
   ]
  },
  {
   "cell_type": "markdown",
   "metadata": {},
   "source": [
    "The default `depth`, i.e. how often rotation and entanglement layers are repeated, is set to 3. \n",
    "This attribute can be changed."
   ]
  },
  {
   "cell_type": "code",
   "execution_count": 5,
   "metadata": {},
   "outputs": [
    {
     "data": {
      "text/plain": [
       "        ┌────────┐ ░           ░ ┌────────┐\n",
       "q_0: |0>┤ Ry(θ0) ├─░──■──■─────░─┤ Ry(θ3) ├\n",
       "        ├────────┤ ░  │  │     ░ ├────────┤\n",
       "q_1: |0>┤ Ry(θ1) ├─░──■──┼──■──░─┤ Ry(θ4) ├\n",
       "        ├────────┤ ░     │  │  ░ ├────────┤\n",
       "q_2: |0>┤ Ry(θ2) ├─░─────■──■──░─┤ Ry(θ5) ├\n",
       "        └────────┘ ░           ░ └────────┘"
      ]
     },
     "execution_count": 5,
     "metadata": {},
     "output_type": "execute_result"
    }
   ],
   "source": [
    "ry.depth = 1\n",
    "ry"
   ]
  },
  {
   "cell_type": "markdown",
   "metadata": {},
   "source": [
    "Similarly, the default entanglement strategy is `'full'`, meaning every qubit is entangled with every other qubit.\n",
    "Other entanglement strategies that can be specified as string are `'linear'` or `'sca'`\n",
    "(see the documentation for more detail about the latter)."
   ]
  },
  {
   "cell_type": "code",
   "execution_count": 6,
   "metadata": {},
   "outputs": [
    {
     "data": {
      "text/plain": [
       "        ┌────────┐ ░        ░ ┌────────┐\n",
       "q_0: |0>┤ Ry(θ0) ├─░──■─────░─┤ Ry(θ3) ├\n",
       "        ├────────┤ ░  │     ░ ├────────┤\n",
       "q_1: |0>┤ Ry(θ1) ├─░──■──■──░─┤ Ry(θ4) ├\n",
       "        ├────────┤ ░     │  ░ ├────────┤\n",
       "q_2: |0>┤ Ry(θ2) ├─░─────■──░─┤ Ry(θ5) ├\n",
       "        └────────┘ ░        ░ └────────┘"
      ]
     },
     "execution_count": 6,
     "metadata": {},
     "output_type": "execute_result"
    }
   ],
   "source": [
    "ry.entanglement = 'linear'\n",
    "ry"
   ]
  },
  {
   "cell_type": "markdown",
   "metadata": {},
   "source": [
    "The entanglement can also be specified via a list of qubits to entangle. \n",
    "Before, this has been specified using the `entangler_map` keyword (which is still supported but deprecated). \n",
    "Now, the this is also handled by the `entanglement` attribute. "
   ]
  },
  {
   "cell_type": "code",
   "execution_count": 7,
   "metadata": {},
   "outputs": [
    {
     "data": {
      "text/plain": [
       "        ┌────────┐ ░     ░ ┌────────┐\n",
       "q_0: |0>┤ Ry(θ0) ├─░──■──░─┤ Ry(θ3) ├\n",
       "        ├────────┤ ░  │  ░ ├────────┤\n",
       "q_1: |0>┤ Ry(θ1) ├─░──┼──░─┤ Ry(θ4) ├\n",
       "        ├────────┤ ░  │  ░ ├────────┤\n",
       "q_2: |0>┤ Ry(θ2) ├─░──■──░─┤ Ry(θ5) ├\n",
       "        └────────┘ ░     ░ └────────┘"
      ]
     },
     "execution_count": 7,
     "metadata": {},
     "output_type": "execute_result"
    }
   ],
   "source": [
    "ry.entanglement = [[0, 2]]\n",
    "ry"
   ]
  },
  {
   "cell_type": "markdown",
   "metadata": {},
   "source": [
    "A new feature is the ability to provide a callable as entanglement, which takes as argument the index of the current entanglement block and returns the block-specific entangler map."
   ]
  },
  {
   "cell_type": "code",
   "execution_count": 8,
   "metadata": {},
   "outputs": [
    {
     "data": {
      "text/plain": [
       "        ┌────────┐ ░           ░ ┌────────┐ ░     ░ ┌────────┐ ░           ░ »\n",
       "q_0: |0>┤ Ry(θ0) ├─░──■─────■──░─┤ Ry(θ3) ├─░──■──░─┤ Ry(θ6) ├─░──■─────■──░─»\n",
       "        ├────────┤ ░  │     │  ░ ├────────┤ ░  │  ░ ├────────┤ ░  │     │  ░ »\n",
       "q_1: |0>┤ Ry(θ1) ├─░──■──■──┼──░─┤ Ry(θ4) ├─░──■──░─┤ Ry(θ7) ├─░──■──■──┼──░─»\n",
       "        ├────────┤ ░     │  │  ░ ├────────┤ ░     ░ ├────────┤ ░     │  │  ░ »\n",
       "q_2: |0>┤ Ry(θ2) ├─░─────■──■──░─┤ Ry(θ5) ├─░─────░─┤ Ry(θ8) ├─░─────■──■──░─»\n",
       "        └────────┘ ░           ░ └────────┘ ░     ░ └────────┘ ░           ░ »\n",
       "«      ┌────────┐\n",
       "«q_0: ─┤ Ry(θ9) ├\n",
       "«     ┌┴────────┤\n",
       "«q_1: ┤ Ry(θ10) ├\n",
       "«     ├─────────┤\n",
       "«q_2: ┤ Ry(θ11) ├\n",
       "«     └─────────┘"
      ]
     },
     "execution_count": 8,
     "metadata": {},
     "output_type": "execute_result"
    }
   ],
   "source": [
    "def entanglement_strategy(i):\n",
    "    if i % 2 == 0:\n",
    "        return [[0, 1], [1, 2], [2, 0]]\n",
    "    return [[0, 1]]\n",
    "\n",
    "ry.depth = 3\n",
    "ry.entanglement = entanglement_strategy\n",
    "ry"
   ]
  },
  {
   "cell_type": "markdown",
   "metadata": {},
   "source": [
    "The `RY` variational form is implemented as specialized two-local Ansatz, which a general variational form with arbitrary single-qubit gates in the rotation layer and arbitrary two-qubit gates in the entanglement layer. We will introduce this class later on. \n",
    "\n",
    "Therefore, both the entanglement and rotation gates can be changed. The gates can be specified as string or circuit (in preparation: as gate type). Single or multiple gates can be set."
   ]
  },
  {
   "cell_type": "code",
   "execution_count": 9,
   "metadata": {},
   "outputs": [
    {
     "data": {
      "text/plain": [
       "        ┌────────┐ ░           ┌───┐ ░ ┌────────┐\n",
       "q_0: |0>┤ Ry(θ0) ├─░───■───────┤ X ├─░─┤ Ry(θ3) ├\n",
       "        ├────────┤ ░ ┌─┴─┐     └─┬─┘ ░ ├────────┤\n",
       "q_1: |0>┤ Ry(θ1) ├─░─┤ X ├──■────┼───░─┤ Ry(θ4) ├\n",
       "        ├────────┤ ░ └───┘┌─┴─┐  │   ░ ├────────┤\n",
       "q_2: |0>┤ Ry(θ2) ├─░──────┤ X ├──■───░─┤ Ry(θ5) ├\n",
       "        └────────┘ ░      └───┘      ░ └────────┘"
      ]
     },
     "execution_count": 9,
     "metadata": {},
     "output_type": "execute_result"
    }
   ],
   "source": [
    "ry.entanglement_gates = 'cx'\n",
    "ry.depth = 1\n",
    "ry"
   ]
  },
  {
   "cell_type": "code",
   "execution_count": 10,
   "metadata": {},
   "outputs": [
    {
     "data": {
      "text/plain": [
       "        ┌────────┐ ░                               ┌───┐┌────────┐ ░ ┌────────┐\n",
       "q_0: |0>┤ Ry(θ0) ├─░───■──────■────────────────────┤ X ├┤ Ry(θ5) ├─░─┤ Ry(θ6) ├\n",
       "        ├────────┤ ░ ┌─┴─┐┌───┴────┐               └─┬─┘└───┬────┘ ░ ├────────┤\n",
       "q_1: |0>┤ Ry(θ1) ├─░─┤ X ├┤ Ry(θ3) ├──■──────■───────┼──────┼──────░─┤ Ry(θ7) ├\n",
       "        ├────────┤ ░ └───┘└────────┘┌─┴─┐┌───┴────┐  │      │      ░ ├────────┤\n",
       "q_2: |0>┤ Ry(θ2) ├─░────────────────┤ X ├┤ Ry(θ4) ├──■──────■──────░─┤ Ry(θ8) ├\n",
       "        └────────┘ ░                └───┘└────────┘                ░ └────────┘"
      ]
     },
     "execution_count": 10,
     "metadata": {},
     "output_type": "execute_result"
    }
   ],
   "source": [
    "ry.entanglement_gates = ['cx', 'cry']\n",
    "ry"
   ]
  },
  {
   "cell_type": "markdown",
   "metadata": {},
   "source": [
    "To prepare an individual entanglement gate just create a 2-qubit circuit with `qiskit.circuit.Parameter` objects as parameters."
   ]
  },
  {
   "cell_type": "code",
   "execution_count": 11,
   "metadata": {},
   "outputs": [
    {
     "data": {
      "text/plain": [
       "        ┌────────┐ ░ ┌──────────┐┌────────┐                      ┌──────────┐»\n",
       "q_0: |0>┤ Ry(θ0) ├─░─┤0         ├┤ Ry(θ3) ├──────────────────────┤1         ├»\n",
       "        ├────────┤ ░ │  Rxx(θ3) │└─┬───┬──┘┌──────────┐┌────────┐│          │»\n",
       "q_1: |0>┤ Ry(θ1) ├─░─┤1         ├──┤ X ├───┤0         ├┤ Ry(θ4) ├┤  Rxx(θ5) ├»\n",
       "        ├────────┤ ░ └──────────┘  └───┘   │  Rxx(θ4) │└─┬───┬──┘│          │»\n",
       "q_2: |0>┤ Ry(θ2) ├─░───────────────────────┤1         ├──┤ X ├───┤0         ├»\n",
       "        └────────┘ ░                       └──────────┘  └───┘   └──────────┘»\n",
       "«       ┌───┐    ░ ┌────────┐\n",
       "«q_0: ──┤ X ├────░─┤ Ry(θ6) ├\n",
       "«       └───┘    ░ ├────────┤\n",
       "«q_1: ───────────░─┤ Ry(θ7) ├\n",
       "«     ┌────────┐ ░ ├────────┤\n",
       "«q_2: ┤ Ry(θ5) ├─░─┤ Ry(θ8) ├\n",
       "«     └────────┘ ░ └────────┘"
      ]
     },
     "execution_count": 11,
     "metadata": {},
     "output_type": "execute_result"
    }
   ],
   "source": [
    "from qiskit.circuit import Parameter\n",
    "\n",
    "my_entanglement = QuantumCircuit(2)\n",
    "angle = Parameter('α')\n",
    "my_entanglement.rxx(angle, 0, 1)\n",
    "my_entanglement.x(1)\n",
    "my_entanglement.ry(angle, 0)\n",
    "\n",
    "ry.entanglement_gates = my_entanglement\n",
    "ry"
   ]
  },
  {
   "cell_type": "markdown",
   "metadata": {},
   "source": [
    "The rotation gates can be set in the same fashion."
   ]
  },
  {
   "cell_type": "code",
   "execution_count": 12,
   "metadata": {},
   "outputs": [
    {
     "data": {
      "text/plain": [
       "        ┌───┐┌────────┐┌───┐ ░                     ┌────────┐ ░ ┌───┐┌────────┐»\n",
       "q_0: |0>┤ Z ├┤ Ry(θ0) ├┤ H ├─░─────■───────────────┤ Rx(θ5) ├─░─┤ Z ├┤ Ry(θ6) ├»\n",
       "        ├───┤├────────┤├───┤ ░ ┌───┴────┐          └───┬────┘ ░ ├───┤├────────┤»\n",
       "q_1: |0>┤ Z ├┤ Ry(θ1) ├┤ H ├─░─┤ Rx(θ3) ├────■─────────┼──────░─┤ Z ├┤ Ry(θ7) ├»\n",
       "        ├───┤├────────┤├───┤ ░ └────────┘┌───┴────┐    │      ░ ├───┤├────────┤»\n",
       "q_2: |0>┤ Z ├┤ Ry(θ2) ├┤ H ├─░───────────┤ Rx(θ4) ├────■──────░─┤ Z ├┤ Ry(θ8) ├»\n",
       "        └───┘└────────┘└───┘ ░           └────────┘           ░ └───┘└────────┘»\n",
       "«     ┌───┐\n",
       "«q_0: ┤ H ├\n",
       "«     ├───┤\n",
       "«q_1: ┤ H ├\n",
       "«     ├───┤\n",
       "«q_2: ┤ H ├\n",
       "«     └───┘"
      ]
     },
     "execution_count": 12,
     "metadata": {},
     "output_type": "execute_result"
    }
   ],
   "source": [
    "ry.entanglement_gates = 'crx'\n",
    "ry.rotation_gates = ['z', 'ry', 'h']\n",
    "ry"
   ]
  },
  {
   "cell_type": "markdown",
   "metadata": {},
   "source": [
    "### Parameter updates"
   ]
  },
  {
   "cell_type": "markdown",
   "metadata": {},
   "source": [
    "The parameters of the Ansatz are per default `qiskit.circuit.Parameter` objects numbered from `0` to `num_parameter - 1` with a certain parameter prefix (per default `'θ'`)."
   ]
  },
  {
   "cell_type": "code",
   "execution_count": 13,
   "metadata": {},
   "outputs": [
    {
     "name": "stdout",
     "output_type": "stream",
     "text": [
      "The Ansatz has 9 parameters.\n",
      "Namely: [Parameter(θ0), Parameter(θ1), Parameter(θ2), Parameter(θ3), Parameter(θ4), Parameter(θ5), Parameter(θ6), Parameter(θ7), Parameter(θ8)]\n"
     ]
    }
   ],
   "source": [
    "print('The Ansatz has', ry.num_parameters, 'parameters.')\n",
    "print('Namely:', ry.parameters)"
   ]
  },
  {
   "cell_type": "markdown",
   "metadata": {},
   "source": [
    "To set new parameters, use the attribute `parameters`. \n",
    "This can be set either to a list of numbers or to another list of parameters."
   ]
  },
  {
   "cell_type": "code",
   "execution_count": 14,
   "metadata": {},
   "outputs": [
    {
     "data": {
      "text/plain": [
       "        ┌───┐┌───────┐┌───┐ ░                   ┌───────┐ ░ ┌───┐┌───────┐┌───┐\n",
       "q_0: |0>┤ Z ├┤ Ry(0) ├┤ H ├─░─────■─────────────┤ Rx(5) ├─░─┤ Z ├┤ Ry(6) ├┤ H ├\n",
       "        ├───┤├───────┤├───┤ ░ ┌───┴───┐         └───┬───┘ ░ ├───┤├───────┤├───┤\n",
       "q_1: |0>┤ Z ├┤ Ry(1) ├┤ H ├─░─┤ Rx(3) ├────■────────┼─────░─┤ Z ├┤ Ry(7) ├┤ H ├\n",
       "        ├───┤├───────┤├───┤ ░ └───────┘┌───┴───┐    │     ░ ├───┤├───────┤├───┤\n",
       "q_2: |0>┤ Z ├┤ Ry(2) ├┤ H ├─░──────────┤ Rx(4) ├────■─────░─┤ Z ├┤ Ry(8) ├┤ H ├\n",
       "        └───┘└───────┘└───┘ ░          └───────┘          ░ └───┘└───────┘└───┘"
      ]
     },
     "execution_count": 14,
     "metadata": {},
     "output_type": "execute_result"
    }
   ],
   "source": [
    "ry.parameters = list(range(ry.num_parameters))\n",
    "ry"
   ]
  },
  {
   "cell_type": "code",
   "execution_count": 15,
   "metadata": {},
   "outputs": [
    {
     "data": {
      "text/plain": [
       "        ┌───┐┌────────┐┌───┐ ░                     ┌────────┐ ░ ┌───┐┌────────┐»\n",
       "q_0: |0>┤ Z ├┤ Ry(χ0) ├┤ H ├─░─────■───────────────┤ Rx(χ5) ├─░─┤ Z ├┤ Ry(χ6) ├»\n",
       "        ├───┤├────────┤├───┤ ░ ┌───┴────┐          └───┬────┘ ░ ├───┤├────────┤»\n",
       "q_1: |0>┤ Z ├┤ Ry(χ1) ├┤ H ├─░─┤ Rx(χ3) ├────■─────────┼──────░─┤ Z ├┤ Ry(χ7) ├»\n",
       "        ├───┤├────────┤├───┤ ░ └────────┘┌───┴────┐    │      ░ ├───┤├────────┤»\n",
       "q_2: |0>┤ Z ├┤ Ry(χ2) ├┤ H ├─░───────────┤ Rx(χ4) ├────■──────░─┤ Z ├┤ Ry(χ8) ├»\n",
       "        └───┘└────────┘└───┘ ░           └────────┘           ░ └───┘└────────┘»\n",
       "«     ┌───┐\n",
       "«q_0: ┤ H ├\n",
       "«     ├───┤\n",
       "«q_1: ┤ H ├\n",
       "«     ├───┤\n",
       "«q_2: ┤ H ├\n",
       "«     └───┘"
      ]
     },
     "execution_count": 15,
     "metadata": {},
     "output_type": "execute_result"
    }
   ],
   "source": [
    "ry.parameters = [Parameter('χ' + str(i)) for i in range(ry.num_parameters)]\n",
    "ry"
   ]
  },
  {
   "cell_type": "markdown",
   "metadata": {},
   "source": [
    "### Creating circuits and instructions"
   ]
  },
  {
   "cell_type": "markdown",
   "metadata": {},
   "source": [
    "To obtain the underlying circuit of the Ansatz, call `to_circuit`. \n",
    "Note that the diagram will show the blocks the Ansatz is made up of."
   ]
  },
  {
   "cell_type": "code",
   "execution_count": 16,
   "metadata": {},
   "outputs": [
    {
     "data": {
      "text/html": [
       "<pre style=\"word-wrap: normal;white-space: pre;background: #fff0;line-height: 1.1;font-family: &quot;Courier New&quot;,Courier,monospace\">        ┌─────────────────┐ ░ ┌─────────────────┐ ░ ┌─────────────────┐\n",
       "q_0: |0>┤0                ├─░─┤0                ├─░─┤0                ├\n",
       "        │                 │ ░ │                 │ ░ │                 │\n",
       "q_1: |0>┤1 Rot0(χ0,χ1,χ2) ├─░─┤1 Ent0(χ3,χ4,χ5) ├─░─┤1 Rot1(χ6,χ7,χ8) ├\n",
       "        │                 │ ░ │                 │ ░ │                 │\n",
       "q_2: |0>┤2                ├─░─┤2                ├─░─┤2                ├\n",
       "        └─────────────────┘ ░ └─────────────────┘ ░ └─────────────────┘</pre>"
      ],
      "text/plain": [
       "        ┌─────────────────┐ ░ ┌─────────────────┐ ░ ┌─────────────────┐\n",
       "q_0: |0>┤0                ├─░─┤0                ├─░─┤0                ├\n",
       "        │                 │ ░ │                 │ ░ │                 │\n",
       "q_1: |0>┤1 Rot0(χ0,χ1,χ2) ├─░─┤1 Ent0(χ3,χ4,χ5) ├─░─┤1 Rot1(χ6,χ7,χ8) ├\n",
       "        │                 │ ░ │                 │ ░ │                 │\n",
       "q_2: |0>┤2                ├─░─┤2                ├─░─┤2                ├\n",
       "        └─────────────────┘ ░ └─────────────────┘ ░ └─────────────────┘"
      ]
     },
     "execution_count": 16,
     "metadata": {},
     "output_type": "execute_result"
    }
   ],
   "source": [
    "circuit = ry.to_circuit()\n",
    "circuit.draw()"
   ]
  },
  {
   "cell_type": "markdown",
   "metadata": {},
   "source": [
    "To unveil the constituents decompose or transpile the circuit."
   ]
  },
  {
   "cell_type": "code",
   "execution_count": 17,
   "metadata": {},
   "outputs": [
    {
     "data": {
      "text/html": [
       "<pre style=\"word-wrap: normal;white-space: pre;background: #fff0;line-height: 1.1;font-family: &quot;Courier New&quot;,Courier,monospace\">        ┌───┐┌────────┐┌───┐ ░                     ┌────────┐ ░ ┌───┐┌────────┐»\n",
       "q_0: |0>┤ Z ├┤ Ry(χ0) ├┤ H ├─░─────■───────────────┤ Rx(χ5) ├─░─┤ Z ├┤ Ry(χ6) ├»\n",
       "        ├───┤├────────┤├───┤ ░ ┌───┴────┐          └───┬────┘ ░ ├───┤├────────┤»\n",
       "q_1: |0>┤ Z ├┤ Ry(χ1) ├┤ H ├─░─┤ Rx(χ3) ├────■─────────┼──────░─┤ Z ├┤ Ry(χ7) ├»\n",
       "        ├───┤├────────┤├───┤ ░ └────────┘┌───┴────┐    │      ░ ├───┤├────────┤»\n",
       "q_2: |0>┤ Z ├┤ Ry(χ2) ├┤ H ├─░───────────┤ Rx(χ4) ├────■──────░─┤ Z ├┤ Ry(χ8) ├»\n",
       "        └───┘└────────┘└───┘ ░           └────────┘           ░ └───┘└────────┘»\n",
       "«     ┌───┐\n",
       "«q_0: ┤ H ├\n",
       "«     ├───┤\n",
       "«q_1: ┤ H ├\n",
       "«     ├───┤\n",
       "«q_2: ┤ H ├\n",
       "«     └───┘</pre>"
      ],
      "text/plain": [
       "        ┌───┐┌────────┐┌───┐ ░                     ┌────────┐ ░ ┌───┐┌────────┐»\n",
       "q_0: |0>┤ Z ├┤ Ry(χ0) ├┤ H ├─░─────■───────────────┤ Rx(χ5) ├─░─┤ Z ├┤ Ry(χ6) ├»\n",
       "        ├───┤├────────┤├───┤ ░ ┌───┴────┐          └───┬────┘ ░ ├───┤├────────┤»\n",
       "q_1: |0>┤ Z ├┤ Ry(χ1) ├┤ H ├─░─┤ Rx(χ3) ├────■─────────┼──────░─┤ Z ├┤ Ry(χ7) ├»\n",
       "        ├───┤├────────┤├───┤ ░ └────────┘┌───┴────┐    │      ░ ├───┤├────────┤»\n",
       "q_2: |0>┤ Z ├┤ Ry(χ2) ├┤ H ├─░───────────┤ Rx(χ4) ├────■──────░─┤ Z ├┤ Ry(χ8) ├»\n",
       "        └───┘└────────┘└───┘ ░           └────────┘           ░ └───┘└────────┘»\n",
       "«     ┌───┐\n",
       "«q_0: ┤ H ├\n",
       "«     ├───┤\n",
       "«q_1: ┤ H ├\n",
       "«     ├───┤\n",
       "«q_2: ┤ H ├\n",
       "«     └───┘"
      ]
     },
     "execution_count": 17,
     "metadata": {},
     "output_type": "execute_result"
    }
   ],
   "source": [
    "circuit.decompose().draw()"
   ]
  },
  {
   "cell_type": "markdown",
   "metadata": {},
   "source": [
    "Instead of creating a circuit the Ansatz can also be converted to an `Instruction` or `Gate` object.\n",
    "The `Gate` representation is important because it allows access to functionality such as `control()` and `inverse()` or `repeat()`.\n",
    "\n",
    "Note however, that a Ansatz can only be converted to a `Gate` if it has no non-unitary operations, such as measurements, barriers or resets."
   ]
  },
  {
   "cell_type": "code",
   "execution_count": 18,
   "metadata": {},
   "outputs": [],
   "source": [
    "instruction = ry.to_instruction()\n",
    "ry.insert_barriers = False\n",
    "gate = ry.to_gate()\n",
    "ry.insert_barriers = True"
   ]
  },
  {
   "cell_type": "code",
   "execution_count": 19,
   "metadata": {},
   "outputs": [
    {
     "data": {
      "text/html": [
       "<pre style=\"word-wrap: normal;white-space: pre;background: #fff0;line-height: 1.1;font-family: &quot;Courier New&quot;,Courier,monospace\">                                                   »\n",
       "q_0: |0>─────────────────────■─────────────────────»\n",
       "        ┌───────────────────┴┼────────────────────┐»\n",
       "q_1: |0>┤0                   │                    ├»\n",
       "        │                                         │»\n",
       "q_2: |0>┤1 Circuit188(χ0,χ1,χ2,χ3,χ4,χ5,χ6,χ7,χ8) ├»\n",
       "        │                                         │»\n",
       "q_3: |0>┤2                                        ├»\n",
       "        └─────────────────────────────────────────┘»\n",
       "«                                                   \n",
       "«q_0: ──────────────────────────────────────────────\n",
       "«     ┌────────────────────────────────────────────┐\n",
       "«q_1: ┤0                                           ├\n",
       "«     │                                            │\n",
       "«q_2: ┤1 Circuit188_dg(χ0,χ1,χ2,χ3,χ4,χ5,χ6,χ7,χ8) ├\n",
       "«     │                                            │\n",
       "«q_3: ┤2                                           ├\n",
       "«     └────────────────────────────────────────────┘</pre>"
      ],
      "text/plain": [
       "                                                   »\n",
       "q_0: |0>─────────────────────■─────────────────────»\n",
       "        ┌───────────────────┴┼────────────────────┐»\n",
       "q_1: |0>┤0                   │                    ├»\n",
       "        │                                         │»\n",
       "q_2: |0>┤1 Circuit188(χ0,χ1,χ2,χ3,χ4,χ5,χ6,χ7,χ8) ├»\n",
       "        │                                         │»\n",
       "q_3: |0>┤2                                        ├»\n",
       "        └─────────────────────────────────────────┘»\n",
       "«                                                   \n",
       "«q_0: ──────────────────────────────────────────────\n",
       "«     ┌────────────────────────────────────────────┐\n",
       "«q_1: ┤0                                           ├\n",
       "«     │                                            │\n",
       "«q_2: ┤1 Circuit188_dg(χ0,χ1,χ2,χ3,χ4,χ5,χ6,χ7,χ8) ├\n",
       "«     │                                            │\n",
       "«q_3: ┤2                                           ├\n",
       "«     └────────────────────────────────────────────┘"
      ]
     },
     "execution_count": 19,
     "metadata": {},
     "output_type": "execute_result"
    }
   ],
   "source": [
    "circuit = QuantumCircuit(4)\n",
    "circuit.append(gate.control(), [0, 1, 2, 3])\n",
    "circuit.append(gate.inverse(), [1, 2, 3])\n",
    "circuit.draw()"
   ]
  },
  {
   "cell_type": "markdown",
   "metadata": {},
   "source": [
    "Also available are the `RYRZ`, `SwapRZ` and `UCCSD` Ansatz (latter is shown in an example below)."
   ]
  },
  {
   "cell_type": "code",
   "execution_count": 20,
   "metadata": {},
   "outputs": [
    {
     "data": {
      "text/plain": [
       "        ┌────────┐┌────────┐   ┌────────┐┌────────┐    ┌────────┐ ┌────────┐   »\n",
       "q_0: |0>┤ Ry(θ0) ├┤ Rz(θ1) ├─■─┤ Ry(θ4) ├┤ Rz(θ5) ├─■──┤ Ry(θ8) ├─┤ Rz(θ9) ├─■─»\n",
       "        ├────────┤├────────┤ │ ├────────┤├────────┤ │ ┌┴────────┤┌┴────────┤ │ »\n",
       "q_1: |0>┤ Ry(θ2) ├┤ Rz(θ3) ├─■─┤ Ry(θ6) ├┤ Rz(θ7) ├─■─┤ Ry(θ10) ├┤ Rz(θ11) ├─■─»\n",
       "        └────────┘└────────┘   └────────┘└────────┘   └─────────┘└─────────┘   »\n",
       "«     ┌─────────┐┌─────────┐\n",
       "«q_0: ┤ Ry(θ12) ├┤ Rz(θ13) ├\n",
       "«     ├─────────┤├─────────┤\n",
       "«q_1: ┤ Ry(θ14) ├┤ Rz(θ15) ├\n",
       "«     └─────────┘└─────────┘"
      ]
     },
     "execution_count": 20,
     "metadata": {},
     "output_type": "execute_result"
    }
   ],
   "source": [
    "RYRZ(2)"
   ]
  },
  {
   "cell_type": "code",
   "execution_count": 21,
   "metadata": {},
   "outputs": [
    {
     "data": {
      "text/plain": [
       "        ┌────────┐ ░ ┌──────────┐┌──────────┐┌──────────┐┌──────────┐»\n",
       "q_0: |0>┤ Rz(θ0) ├─░─┤0         ├┤0         ├┤0         ├┤0         ├»\n",
       "        ├────────┤ ░ │  Rxx(θ3) ││  Ryy(θ3) ││          ││          │»\n",
       "q_1: |0>┤ Rz(θ1) ├─░─┤1         ├┤1         ├┤  Rxx(θ4) ├┤  Ryy(θ4) ├»\n",
       "        ├────────┤ ░ └──────────┘└──────────┘│          ││          │»\n",
       "q_2: |0>┤ Rz(θ2) ├─░─────────────────────────┤1         ├┤1         ├»\n",
       "        └────────┘ ░                         └──────────┘└──────────┘»\n",
       "«                              ░ ┌────────┐\n",
       "«q_0: ─────────────────────────░─┤ Rz(θ6) ├\n",
       "«     ┌──────────┐┌──────────┐ ░ ├────────┤\n",
       "«q_1: ┤0         ├┤0         ├─░─┤ Rz(θ7) ├\n",
       "«     │  Rxx(θ5) ││  Ryy(θ5) │ ░ ├────────┤\n",
       "«q_2: ┤1         ├┤1         ├─░─┤ Rz(θ8) ├\n",
       "«     └──────────┘└──────────┘ ░ └────────┘"
      ]
     },
     "execution_count": 21,
     "metadata": {},
     "output_type": "execute_result"
    }
   ],
   "source": [
    "SwapRZ(3, depth=1, insert_barriers=True)"
   ]
  },
  {
   "cell_type": "markdown",
   "metadata": {},
   "source": [
    "## Backward compatibility\n",
    "\n",
    "Backward compatibility is maintained mainly by providing a `construct_circuit` method."
   ]
  },
  {
   "cell_type": "code",
   "execution_count": 22,
   "metadata": {},
   "outputs": [],
   "source": [
    "ry = RY(3, depth=1, insert_barriers=True)"
   ]
  },
  {
   "cell_type": "code",
   "execution_count": 23,
   "metadata": {},
   "outputs": [
    {
     "data": {
      "text/html": [
       "<pre style=\"word-wrap: normal;white-space: pre;background: #fff0;line-height: 1.1;font-family: &quot;Courier New&quot;,Courier,monospace\">        ┌───────┐ ░           ░ ┌───────┐\n",
       "q_0: |0>┤ Ry(0) ├─░──■──■─────░─┤ Ry(3) ├\n",
       "        ├───────┤ ░  │  │     ░ ├───────┤\n",
       "q_1: |0>┤ Ry(1) ├─░──■──┼──■──░─┤ Ry(4) ├\n",
       "        ├───────┤ ░     │  │  ░ ├───────┤\n",
       "q_2: |0>┤ Ry(2) ├─░─────■──■──░─┤ Ry(5) ├\n",
       "        └───────┘ ░           ░ └───────┘</pre>"
      ],
      "text/plain": [
       "        ┌───────┐ ░           ░ ┌───────┐\n",
       "q_0: |0>┤ Ry(0) ├─░──■──■─────░─┤ Ry(3) ├\n",
       "        ├───────┤ ░  │  │     ░ ├───────┤\n",
       "q_1: |0>┤ Ry(1) ├─░──■──┼──■──░─┤ Ry(4) ├\n",
       "        ├───────┤ ░     │  │  ░ ├───────┤\n",
       "q_2: |0>┤ Ry(2) ├─░─────■──■──░─┤ Ry(5) ├\n",
       "        └───────┘ ░           ░ └───────┘"
      ]
     },
     "execution_count": 23,
     "metadata": {},
     "output_type": "execute_result"
    }
   ],
   "source": [
    "bound_circuit = ry.construct_circuit(params=list(range(ry.num_parameters)))\n",
    "bound_circuit.decompose().draw()"
   ]
  },
  {
   "cell_type": "markdown",
   "metadata": {},
   "source": [
    "### Running the VQE\n",
    "\n",
    "Current algorithms, such as the VQE do not need any changes."
   ]
  },
  {
   "cell_type": "code",
   "execution_count": 24,
   "metadata": {},
   "outputs": [],
   "source": [
    "from qiskit import BasicAer\n",
    "from qiskit.aqua.algorithms import VQE\n",
    "from qiskit.aqua.operators import WeightedPauliOperator\n",
    "from qiskit.aqua.components.optimizers import SLSQP\n",
    "\n",
    "reference_energy = -1.8572750\n",
    "\n",
    "pauli_dict = {\n",
    "    'paulis': [{\"coeff\": {\"imag\": 0.0, \"real\": -1.052373245772859}, \"label\": \"II\"},\n",
    "               {\"coeff\": {\"imag\": 0.0, \"real\": 0.39793742484318045}, \"label\": \"IZ\"},\n",
    "               {\"coeff\": {\"imag\": 0.0, \"real\": -0.39793742484318045}, \"label\": \"ZI\"},\n",
    "               {\"coeff\": {\"imag\": 0.0, \"real\": -0.01128010425623538}, \"label\": \"ZZ\"},\n",
    "               {\"coeff\": {\"imag\": 0.0, \"real\": 0.18093119978423156}, \"label\": \"XX\"}\n",
    "              ]\n",
    "              }\n",
    "\n",
    "qubit_op = WeightedPauliOperator.from_dict(pauli_dict)\n",
    "ry = RY(2)\n",
    "optimizer = SLSQP()\n",
    "backend = BasicAer.get_backend('statevector_simulator')\n",
    "\n",
    "vqe = VQE(qubit_op, ry, optimizer)\n",
    "result = vqe.run(backend)"
   ]
  },
  {
   "cell_type": "code",
   "execution_count": 25,
   "metadata": {},
   "outputs": [
    {
     "name": "stdout",
     "output_type": "stream",
     "text": [
      "Energy: -1.8572749546998735\n",
      "Expected: -1.857275\n"
     ]
    }
   ],
   "source": [
    "print('Energy:', result['energy'])\n",
    "print('Expected:', reference_energy)"
   ]
  },
  {
   "cell_type": "code",
   "execution_count": 26,
   "metadata": {
    "scrolled": false
   },
   "outputs": [
    {
     "name": "stderr",
     "output_type": "stream",
     "text": [
      "/Users/jul/Work/Qiskit/qiskit-aqua/qiskit/aqua/components/ansatz/ansatz.py:481: UserWarning: This private class member is deprecated and will be removed. Use the property num_parameters instead.\n",
      "  warnings.warn('This private class member is deprecated and will be removed. '\n",
      "/Users/jul/Work/Qiskit/qiskit-aqua/qiskit/aqua/components/ansatz/ansatz.py:474: UserWarning: This private class member is deprecated and will be removed. Use the property num_parameters instead.\n",
      "  warnings.warn('This private class member is deprecated and will be removed. '\n"
     ]
    }
   ],
   "source": [
    "from qiskit.chemistry.components.initial_states import HartreeFock\n",
    "from qiskit.chemistry.components.variational_forms import UCCSD\n",
    "from qiskit.chemistry.drivers import HDF5Driver\n",
    "from qiskit.chemistry.core import Hamiltonian, QubitMappingType\n",
    "\n",
    "\n",
    "reference_energy = -1.1373060356951838\n",
    "\n",
    "driver = HDF5Driver('test_driver_hdf5.hdf5')\n",
    "qmolecule = driver.run()\n",
    "operator = Hamiltonian(qubit_mapping=QubitMappingType.PARITY, two_qubit_reduction=True)\n",
    "qubit_op, _ = operator.run(qmolecule)\n",
    "\n",
    "optimizer = SLSQP(maxiter=100)\n",
    "initial_state = HartreeFock(qubit_op.num_qubits,\n",
    "                            operator.molecule_info['num_orbitals'],\n",
    "                            operator.molecule_info['num_particles'],\n",
    "                            qubit_mapping=operator._qubit_mapping,\n",
    "                            two_qubit_reduction=operator._two_qubit_reduction)\n",
    "var_form = UCCSD(qubit_op.num_qubits, depth=1,\n",
    "                 num_orbitals=operator.molecule_info['num_orbitals'],\n",
    "                 num_particles=operator.molecule_info['num_particles'],\n",
    "                 initial_state=initial_state,\n",
    "                 qubit_mapping=operator._qubit_mapping,\n",
    "                 two_qubit_reduction=operator._two_qubit_reduction)\n",
    "algo = VQE(qubit_op, var_form, optimizer)\n",
    "result = algo.run(BasicAer.get_backend('statevector_simulator'))\n",
    "_, result = operator.process_algorithm_result(result)"
   ]
  },
  {
   "cell_type": "code",
   "execution_count": 27,
   "metadata": {},
   "outputs": [
    {
     "name": "stdout",
     "output_type": "stream",
     "text": [
      "Energy: -1.1373060356950961\n",
      "Expected: -1.1373060356951838\n"
     ]
    }
   ],
   "source": [
    "print('Energy:', result['energy'])\n",
    "print('Expected:', reference_energy)"
   ]
  },
  {
   "cell_type": "markdown",
   "metadata": {},
   "source": [
    "## Creating special two-local Ansätze\n",
    "\n",
    "To set up a two-local Ansatz, the class `TwoLocalAnsatz` can be used. \n",
    "This class has essentially the same arguments as `RY` or `RYRZ` but requires arguments for the rotation and entanglement gates."
   ]
  },
  {
   "cell_type": "code",
   "execution_count": 28,
   "metadata": {},
   "outputs": [],
   "source": [
    "from qiskit.aqua.components.ansatz import TwoLocalAnsatz"
   ]
  },
  {
   "cell_type": "code",
   "execution_count": 29,
   "metadata": {},
   "outputs": [
    {
     "data": {
      "text/plain": [
       "        ┌───┐┌────────┐┌───┐ ░                                ░ ┌───┐┌────────┐»\n",
       "q_0: |0>┤ H ├┤ Rz(θ0) ├┤ H ├─░─────■─────────■────────────────░─┤ H ├┤ Rz(θ6) ├»\n",
       "        ├───┤├────────┤├───┤ ░ ┌───┴────┐    │                ░ ├───┤├────────┤»\n",
       "q_1: |0>┤ H ├┤ Rz(θ1) ├┤ H ├─░─┤ Rx(θ3) ├────┼─────────■──────░─┤ H ├┤ Rz(θ7) ├»\n",
       "        ├───┤├────────┤├───┤ ░ └────────┘┌───┴────┐┌───┴────┐ ░ ├───┤├────────┤»\n",
       "q_2: |0>┤ H ├┤ Rz(θ2) ├┤ H ├─░───────────┤ Rx(θ4) ├┤ Rx(θ5) ├─░─┤ H ├┤ Rz(θ8) ├»\n",
       "        └───┘└────────┘└───┘ ░           └────────┘└────────┘ ░ └───┘└────────┘»\n",
       "«     ┌───┐\n",
       "«q_0: ┤ H ├\n",
       "«     ├───┤\n",
       "«q_1: ┤ H ├\n",
       "«     ├───┤\n",
       "«q_2: ┤ H ├\n",
       "«     └───┘"
      ]
     },
     "execution_count": 29,
     "metadata": {},
     "output_type": "execute_result"
    }
   ],
   "source": [
    "ansatz = TwoLocalAnsatz(num_qubits=3, depth=1, rotation_gates=['h', 'rz', 'h'], entanglement_gates='crx', insert_barriers=True)\n",
    "ansatz"
   ]
  },
  {
   "cell_type": "markdown",
   "metadata": {},
   "source": [
    "## Full control using the Ansatz class\n",
    "\n",
    "Conceptually, the `Ansatz` base class takes as input a number of blocks in form of a circuit or instruction and a number of repetitions and repeats the input blocks."
   ]
  },
  {
   "cell_type": "code",
   "execution_count": 30,
   "metadata": {},
   "outputs": [
    {
     "data": {
      "text/html": [
       "<pre style=\"word-wrap: normal;white-space: pre;background: #fff0;line-height: 1.1;font-family: &quot;Courier New&quot;,Courier,monospace\">        ┌─────────┐┌─────────┐\n",
       "q_0: |0>┤0        ├┤0        ├\n",
       "        │         ││         │\n",
       "q_1: |0>┤1 Block0 ├┤1 Block1 ├\n",
       "        │         ││         │\n",
       "q_2: |0>┤2        ├┤2        ├\n",
       "        └─────────┘└─────────┘</pre>"
      ],
      "text/plain": [
       "        ┌─────────┐┌─────────┐\n",
       "q_0: |0>┤0        ├┤0        ├\n",
       "        │         ││         │\n",
       "q_1: |0>┤1 Block0 ├┤1 Block1 ├\n",
       "        │         ││         │\n",
       "q_2: |0>┤2        ├┤2        ├\n",
       "        └─────────┘└─────────┘"
      ]
     },
     "execution_count": 30,
     "metadata": {},
     "output_type": "execute_result"
    }
   ],
   "source": [
    "num_qubits = 3\n",
    "block0 = QuantumCircuit(num_qubits, name='block0')\n",
    "block1 = QuantumCircuit(num_qubits, name='block1')\n",
    "\n",
    "ansatz = Ansatz([block0, block1])\n",
    "ansatz.to_circuit().draw()  # not using print(ansatz) since the tranpiling exposes the empty circuits"
   ]
  },
  {
   "cell_type": "markdown",
   "metadata": {},
   "source": [
    "The repetitions can be provided either as integer or as list of indices."
   ]
  },
  {
   "cell_type": "code",
   "execution_count": 31,
   "metadata": {},
   "outputs": [
    {
     "data": {
      "text/html": [
       "<pre style=\"word-wrap: normal;white-space: pre;background: #fff0;line-height: 1.1;font-family: &quot;Courier New&quot;,Courier,monospace\">        ┌─────────┐┌─────────┐┌─────────┐┌─────────┐┌─────────┐┌─────────┐\n",
       "q_0: |0>┤0        ├┤0        ├┤0        ├┤0        ├┤0        ├┤0        ├\n",
       "        │         ││         ││         ││         ││         ││         │\n",
       "q_1: |0>┤1 Block0 ├┤1 Block1 ├┤1 Block0 ├┤1 Block1 ├┤1 Block0 ├┤1 Block1 ├\n",
       "        │         ││         ││         ││         ││         ││         │\n",
       "q_2: |0>┤2        ├┤2        ├┤2        ├┤2        ├┤2        ├┤2        ├\n",
       "        └─────────┘└─────────┘└─────────┘└─────────┘└─────────┘└─────────┘</pre>"
      ],
      "text/plain": [
       "        ┌─────────┐┌─────────┐┌─────────┐┌─────────┐┌─────────┐┌─────────┐\n",
       "q_0: |0>┤0        ├┤0        ├┤0        ├┤0        ├┤0        ├┤0        ├\n",
       "        │         ││         ││         ││         ││         ││         │\n",
       "q_1: |0>┤1 Block0 ├┤1 Block1 ├┤1 Block0 ├┤1 Block1 ├┤1 Block0 ├┤1 Block1 ├\n",
       "        │         ││         ││         ││         ││         ││         │\n",
       "q_2: |0>┤2        ├┤2        ├┤2        ├┤2        ├┤2        ├┤2        ├\n",
       "        └─────────┘└─────────┘└─────────┘└─────────┘└─────────┘└─────────┘"
      ]
     },
     "execution_count": 31,
     "metadata": {},
     "output_type": "execute_result"
    }
   ],
   "source": [
    "ansatz = Ansatz([block0, block1], reps=3)\n",
    "ansatz.to_circuit().draw()"
   ]
  },
  {
   "cell_type": "code",
   "execution_count": 32,
   "metadata": {},
   "outputs": [
    {
     "data": {
      "text/html": [
       "<pre style=\"word-wrap: normal;white-space: pre;background: #fff0;line-height: 1.1;font-family: &quot;Courier New&quot;,Courier,monospace\">        ┌─────────┐┌─────────┐┌─────────┐┌─────────┐\n",
       "q_0: |0>┤0        ├┤0        ├┤0        ├┤0        ├\n",
       "        │         ││         ││         ││         │\n",
       "q_1: |0>┤1 Block0 ├┤1 Block1 ├┤1 Block1 ├┤1 Block0 ├\n",
       "        │         ││         ││         ││         │\n",
       "q_2: |0>┤2        ├┤2        ├┤2        ├┤2        ├\n",
       "        └─────────┘└─────────┘└─────────┘└─────────┘</pre>"
      ],
      "text/plain": [
       "        ┌─────────┐┌─────────┐┌─────────┐┌─────────┐\n",
       "q_0: |0>┤0        ├┤0        ├┤0        ├┤0        ├\n",
       "        │         ││         ││         ││         │\n",
       "q_1: |0>┤1 Block0 ├┤1 Block1 ├┤1 Block1 ├┤1 Block0 ├\n",
       "        │         ││         ││         ││         │\n",
       "q_2: |0>┤2        ├┤2        ├┤2        ├┤2        ├\n",
       "        └─────────┘└─────────┘└─────────┘└─────────┘"
      ]
     },
     "execution_count": 32,
     "metadata": {},
     "output_type": "execute_result"
    }
   ],
   "source": [
    "ansatz.reps = [0, 1, 1, 0]  # equivalent to Ansatz([block0, block1, block1, block0])\n",
    "ansatz.to_circuit().draw()"
   ]
  },
  {
   "cell_type": "markdown",
   "metadata": {},
   "source": [
    "If the blocks are parameterized, the parameters are overwritten by default. The reason is that a repeated block probably should have a new parameter.\n"
   ]
  },
  {
   "cell_type": "code",
   "execution_count": 33,
   "metadata": {},
   "outputs": [
    {
     "data": {
      "text/plain": [
       "<qiskit.circuit.instructionset.InstructionSet at 0x12d6c3ed0>"
      ]
     },
     "execution_count": 33,
     "metadata": {},
     "output_type": "execute_result"
    }
   ],
   "source": [
    "num_qubits = 2\n",
    "block0 = QuantumCircuit(num_qubits, name='block0')\n",
    "block0.rx(Parameter('X'), 0)\n",
    "block1 = QuantumCircuit(num_qubits, name='block1')\n",
    "block1.ry(Parameter('Y'), 1)"
   ]
  },
  {
   "cell_type": "code",
   "execution_count": 34,
   "metadata": {},
   "outputs": [
    {
     "name": "stdout",
     "output_type": "stream",
     "text": [
      "Parameters: [Parameter(θ0), Parameter(θ1), Parameter(θ2), Parameter(θ3)]\n"
     ]
    },
    {
     "data": {
      "text/plain": [
       "        ┌────────┐ ░            ░ ┌────────┐ ░           \n",
       "q_0: |0>┤ Rx(θ0) ├─░────────────░─┤ Rx(θ2) ├─░───────────\n",
       "        └────────┘ ░ ┌────────┐ ░ └────────┘ ░ ┌────────┐\n",
       "q_1: |0>───────────░─┤ Ry(θ1) ├─░────────────░─┤ Ry(θ3) ├\n",
       "                   ░ └────────┘ ░            ░ └────────┘"
      ]
     },
     "execution_count": 34,
     "metadata": {},
     "output_type": "execute_result"
    }
   ],
   "source": [
    "ansatz = Ansatz([block0, block1], reps=2, insert_barriers=True)\n",
    "print('Parameters:', ansatz.parameters)\n",
    "ansatz"
   ]
  },
  {
   "cell_type": "markdown",
   "metadata": {},
   "source": [
    "This behaviour can be turned off using `overwrite_block_parameters`."
   ]
  },
  {
   "cell_type": "code",
   "execution_count": 35,
   "metadata": {},
   "outputs": [
    {
     "name": "stdout",
     "output_type": "stream",
     "text": [
      "Parameters: [Parameter(X), Parameter(Y)]\n"
     ]
    },
    {
     "data": {
      "text/plain": [
       "        ┌───────┐ ░           ░ ┌───────┐ ░          \n",
       "q_0: |0>┤ Rx(X) ├─░───────────░─┤ Rx(X) ├─░──────────\n",
       "        └───────┘ ░ ┌───────┐ ░ └───────┘ ░ ┌───────┐\n",
       "q_1: |0>──────────░─┤ Ry(Y) ├─░───────────░─┤ Ry(Y) ├\n",
       "                  ░ └───────┘ ░           ░ └───────┘"
      ]
     },
     "execution_count": 35,
     "metadata": {},
     "output_type": "execute_result"
    }
   ],
   "source": [
    "ansatz = Ansatz([block0, block1], reps=2, insert_barriers=True, overwrite_block_parameters=False)\n",
    "print('Parameters:', ansatz.parameters)\n",
    "ansatz"
   ]
  },
  {
   "cell_type": "markdown",
   "metadata": {},
   "source": [
    "If parameters should be bound, this can be achieved by providing a individual list of block parameters to the Ansatz.\n",
    "\n",
    "Say the first 3 parameters should be the same and the last one different."
   ]
  },
  {
   "cell_type": "code",
   "execution_count": 36,
   "metadata": {},
   "outputs": [
    {
     "name": "stdout",
     "output_type": "stream",
     "text": [
      "Parameters: [Parameter(A), Parameter(B)]\n"
     ]
    },
    {
     "data": {
      "text/plain": [
       "        ┌───────┐ ░           ░ ┌───────┐ ░          \n",
       "q_0: |0>┤ Rx(A) ├─░───────────░─┤ Rx(A) ├─░──────────\n",
       "        └───────┘ ░ ┌───────┐ ░ └───────┘ ░ ┌───────┐\n",
       "q_1: |0>──────────░─┤ Ry(A) ├─░───────────░─┤ Ry(B) ├\n",
       "                  ░ └───────┘ ░           ░ └───────┘"
      ]
     },
     "execution_count": 36,
     "metadata": {},
     "output_type": "execute_result"
    }
   ],
   "source": [
    "first, last = Parameter('A'), Parameter('B')\n",
    "blockwise_parameters = 3 * [[first]] + [[last]]\n",
    "\n",
    "ansatz = Ansatz([block0, block1], reps=2, insert_barriers=True, overwrite_block_parameters=blockwise_parameters)\n",
    "print('Parameters:', ansatz.parameters)\n",
    "ansatz"
   ]
  },
  {
   "cell_type": "markdown",
   "metadata": {},
   "source": [
    "Using the `blockwise_parameters` attribute, the parameter bindings can be changed at any point."
   ]
  },
  {
   "cell_type": "code",
   "execution_count": 37,
   "metadata": {},
   "outputs": [
    {
     "data": {
      "text/plain": [
       "        ┌────────┐ ░            ░ ┌────────┐ ░           \n",
       "q_0: |0>┤ Rx(p0) ├─░────────────░─┤ Rx(p2) ├─░───────────\n",
       "        └────────┘ ░ ┌────────┐ ░ └────────┘ ░ ┌────────┐\n",
       "q_1: |0>───────────░─┤ Ry(p1) ├─░────────────░─┤ Ry(p3) ├\n",
       "                   ░ └────────┘ ░            ░ └────────┘"
      ]
     },
     "execution_count": 37,
     "metadata": {},
     "output_type": "execute_result"
    }
   ],
   "source": [
    "ansatz.blockwise_parameters = [[Parameter('p' + str(i))] for i in range(4)]\n",
    "ansatz"
   ]
  }
 ],
 "metadata": {
  "file_extension": ".py",
  "kernelspec": {
   "display_name": "Python 3.7.5 64-bit ('latest': virtualenv)",
   "language": "python",
   "name": "python37564bitlatestvirtualenv76cfe9d7d3f749489cf2ff69593234af"
  },
  "language_info": {
   "codemirror_mode": {
    "name": "ipython",
    "version": 3
   },
   "file_extension": ".py",
   "mimetype": "text/x-python",
   "name": "python",
   "nbconvert_exporter": "python",
   "pygments_lexer": "ipython3",
   "version": "3.7.5"
  },
  "mimetype": "text/x-python",
  "name": "python",
  "npconvert_exporter": "python",
  "pygments_lexer": "ipython3",
  "version": 3
 },
 "nbformat": 4,
 "nbformat_minor": 2
}
