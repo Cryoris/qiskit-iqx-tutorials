{
 "metadata": {
  "language_info": {
   "codemirror_mode": {
    "name": "ipython",
    "version": 3
   },
   "file_extension": ".py",
   "mimetype": "text/x-python",
   "name": "python",
   "nbconvert_exporter": "python",
   "pygments_lexer": "ipython3",
   "version": "3.7.9-final"
  },
  "orig_nbformat": 2,
  "kernelspec": {
   "name": "python3",
   "display_name": "Python 3",
   "language": "python"
  }
 },
 "nbformat": 4,
 "nbformat_minor": 2,
 "cells": [
  {
   "source": [
    "Amplitude estimation is the task to ..."
   ],
   "cell_type": "markdown",
   "metadata": {}
  },
  {
   "cell_type": "code",
   "execution_count": null,
   "metadata": {},
   "outputs": [],
   "source": []
  },
  {
   "source": [
    "The different variant of QAE implemented in Qiskit are:\n",
    "\n",
    "* (Canonical) Amplitude Estimation [1],\n",
    "* Maximum Likelihood Amplitude Estimation [2],\n",
    "* and Iterative Amplitude Estimation [3]\n",
    "\n",
    "[1] Brassard\n",
    "\n",
    "[2] Suzuki\n",
    "\n",
    "[3] Grinko"
   ],
   "cell_type": "markdown",
   "metadata": {}
  },
  {
   "cell_type": "code",
   "execution_count": 1,
   "metadata": {},
   "outputs": [],
   "source": [
    "from qiskit.algorithms import (\n",
    "    AmplitudeEstimation, IterativeAmplitudeEstimation, MaximumLikelihoodAmplitudeEstimation,\n",
    "    EstimationProblem\n",
    ")"
   ]
  },
  {
   "source": [
    "At first, let's begin with the original formulation of QAE by Brassard which is implemented in `AmplitudeEstimation`.\n",
    "As a simple toy problem that we can verify with pen and paper consider the task of finding the amplitude `p` in the state\n",
    "\n",
    "$$\n",
    "    |\\psi\\rangle = \\mathcal{A}|0\\rangle = \\sqrt{1 - p}|0\\rangle + \\sqrt{p}|1\\rangle.\n",
    "$$\n",
    "\n",
    "This represents a Bernoulli distribution on a single qubit with sampling probability $\\mathrm{Pr}(X = 1) = p$. It can be\n",
    "prepared with a Pauli-$Y$ rotation as\n",
    "\n",
    "$$\n",
    "    \\mathcal{A} = RY(\\theta_p),\n",
    "    \\theta_p = 2\\arcsin(\\sqrt{p})\n",
    "$$\n",
    "\n",
    "This circuit is easily prepared in Qiskit."
   ],
   "cell_type": "markdown",
   "metadata": {}
  },
  {
   "cell_type": "code",
   "execution_count": 6,
   "metadata": {},
   "outputs": [
    {
     "output_type": "execute_result",
     "data": {
      "text/plain": [
       "     ┌────────────┐\n",
       "q_0: ┤ RY(1.0098) ├\n",
       "     └────────────┘"
      ],
      "text/html": "<pre style=\"word-wrap: normal;white-space: pre;background: #fff0;line-height: 1.1;font-family: &quot;Courier New&quot;,Courier,monospace\">     ┌────────────┐\nq_0: ┤ RY(1.0098) ├\n     └────────────┘</pre>"
     },
     "metadata": {},
     "execution_count": 6
    }
   ],
   "source": [
    "import numpy\n",
    "from qiskit.circuit import QuantumCircuit\n",
    "\n",
    "p = 0.234\n",
    "theta_p = 2 * numpy.arcsin(numpy.sqrt(p))\n",
    "\n",
    "a_operator = QuantumCircuit(1)\n",
    "a_operator.ry(theta_p, 0)\n",
    "\n",
    "a_operator.draw()"
   ]
  },
  {
   "source": [
    "As a sanity check, let's verify that this actually prepares the right state. "
   ],
   "cell_type": "markdown",
   "metadata": {}
  },
  {
   "cell_type": "code",
   "execution_count": 12,
   "metadata": {},
   "outputs": [
    {
     "output_type": "stream",
     "name": "stdout",
     "text": [
      "expected\n [0.87521426 0.48373546]\nactual\n [0.87521426+0.j 0.48373546+0.j]\nequivalent? True\n"
     ]
    }
   ],
   "source": [
    "from qiskit.quantum_info import Statevector\n",
    "\n",
    "expected = numpy.sqrt(numpy.array([1 - p, p]))\n",
    "actual = Statevector(a_operator)\n",
    "\n",
    "print('expected\\n', expected)\n",
    "print('actual\\n', actual.data)\n",
    "print('equivalent?', actual.equiv(expected))  # check if both statevectors are equivalent"
   ]
  },
  {
   "source": [
    "To run the QAE experiment we further need to specify how the good state can be identified. For the Bernoulli example a good state is measured if the (only) qubit is in state $|1\\rangle$. This information, along with the $\\mathcal{A}$ operator is wrapped inside a problem-class: the `EstimationProblem`. "
   ],
   "cell_type": "markdown",
   "metadata": {}
  },
  {
   "cell_type": "code",
   "execution_count": 13,
   "metadata": {},
   "outputs": [],
   "source": [
    "bernoulli = EstimationProblem(a_operator, objective_qubits=[0])  # the 0th qubit is the objective, it must be |1>"
   ]
  },
  {
   "source": [
    "Note that here we have only used the problem class in a basic manner, there are more settings that can be passed:\n",
    "\n",
    "* a custom $\\mathcal{Q}$ operator\n",
    "* post-processing on the amplitude $a \\in [0, 1]$\n",
    "* a more elaborate callable used to check if a bitstring is a good state (only supported by `MaximumLikelihoodAmplitudeEstimation` and `IterativeAmplitudeEstimation`)"
   ],
   "cell_type": "markdown",
   "metadata": {}
  },
  {
   "source": [
    "Now we can already run the algorithm. The canonical formulation only requires to set the number of evaluation qubits $m$, with which the error scales as $\\mathcal{O}(2^{-m})$."
   ],
   "cell_type": "markdown",
   "metadata": {}
  },
  {
   "source": [
    "# we will use a shot-based simulation\n",
    "backend = Aer.get_backend('qasm_simulator')\n",
    "\n",
    "# define the algorithm instance\n",
    "ae = AmplitudeEstimation(3, quantum_instance=backend)\n",
    "\n",
    "# solve the problem\n",
    "ae_result = ae.estimate(bernoulli)\n",
    "\n",
    "print('Grid-based estimate:', ae_result.estimation)\n",
    "print('MLE-based estimate:', ae_result.mle)\n",
    "print('Target:', p)"
   ],
   "cell_type": "code",
   "metadata": {},
   "execution_count": null,
   "outputs": []
  },
  {
   "source": [
    "Per default we also have access to more interesting data, such as the 95%-confidence interval for the result (here for the MLE result):"
   ],
   "cell_type": "markdown",
   "metadata": {}
  },
  {
   "source": [
    "print('95% confidence interval', ae_result.confidence_interval)"
   ],
   "cell_type": "code",
   "metadata": {},
   "execution_count": 29,
   "outputs": [
    {
     "output_type": "stream",
     "name": "stdout",
     "text": [
      "95% confidence interval (0.22938954476417864, 0.24111601042000727)\n"
     ]
    }
   ]
  },
  {
   "source": [
    "To compute another confidence interval we can use the `compute_confidence_interval` method, which for each QAE variant supports different calculation techniques. For maximum-likelihood based estimations one can e.g. compute the confidence interval via a Fisher-information based approach or via the likelihood ratio."
   ],
   "cell_type": "markdown",
   "metadata": {}
  },
  {
   "cell_type": "code",
   "execution_count": 36,
   "metadata": {},
   "outputs": [
    {
     "output_type": "stream",
     "name": "stdout",
     "text": [
      "99% Fisher CI: (0.22752814190011758, 0.2428473622171791)\n99% LR CI: (0.22759622370429994, 0.2430038929828027)\n"
     ]
    }
   ],
   "source": [
    "fisher_ci = ae.compute_confidence_interval(ae_result, alpha=0.01, kind='fisher')  # algorithms are not stateful, we need to pass the result in\n",
    "lr_ci = ae.compute_confidence_interval(ae_result, alpha=0.01, kind='likelihood_ratio')\n",
    "print('99% Fisher CI:', fisher_ci)\n",
    "print('99% LR CI:', lr_ci)"
   ]
  },
  {
   "source": [
    "We can re-use the same problem instance and compare the result to other amplitude estimation implementations."
   ],
   "cell_type": "markdown",
   "metadata": {}
  },
  {
   "source": [
    "In Maximum-Likelihood Amplitude Estimation we can specify the schedule TODO ..."
   ],
   "cell_type": "markdown",
   "metadata": {}
  },
  {
   "source": [
    "mlae = MaximumLikelihoodAmplitudeEstimation(3, quantum_instance=backend)\n",
    "mlae_result = mlae.estimate(bernoulli)\n",
    "print('Result:', mlae_result.estimation)\n",
    "print('95%-CI:', mlae_result.confidence_interval)"
   ],
   "cell_type": "code",
   "metadata": {},
   "execution_count": 34,
   "outputs": [
    {
     "output_type": "stream",
     "name": "stdout",
     "text": [
      "Result: 0.23407452096481732\n95%-CI: (0.23166661541248848, 0.23648242651714615)\n"
     ]
    }
   ]
  },
  {
   "source": [
    "In Iterative Amplitude Estimation we can specify TODO..."
   ],
   "cell_type": "markdown",
   "metadata": {}
  },
  {
   "cell_type": "code",
   "execution_count": 35,
   "metadata": {},
   "outputs": [
    {
     "output_type": "stream",
     "name": "stdout",
     "text": [
      "Result: 0.23245497723823655\n95%-CI: (0.22919209138840219, 0.23571786308807088)\n"
     ]
    }
   ],
   "source": [
    "iae = IterativeAmplitudeEstimation(0.01, 0.05, quantum_instance=backend)\n",
    "iae_result = iae.estimate(bernoulli)\n",
    "print('Result:', iae_result.estimation)\n",
    "print('95%-CI:', iae_result.confidence_interval)"
   ]
  },
  {
   "source": [
    "### Specifying the Grover operator directly\n",
    "\n",
    "All these implementation use powers of the $\\mathcal{Q}$ operator. This operator can be generated automatically based on $\\mathcal{A}$ and if the good state is simply defined by a set of objective qubits being in state $|1\\rangle$. \n",
    "\n",
    "But these circuits can quickly become quite large, especially if we don't have such a simple example as the Bernoulli distribution. As an example let's have a look at the circuits from canonical QAE and the iterative variant."
   ],
   "cell_type": "markdown",
   "metadata": {}
  },
  {
   "cell_type": "code",
   "execution_count": 49,
   "metadata": {},
   "outputs": [
    {
     "output_type": "stream",
     "name": "stdout",
     "text": [
      "            ┌───┐     ┌─────────┐                      ┌──────┐\neval_0: ────┤ H ├─────┤0        ├──────────────────────┤0     ├\n            ├───┤     │         │┌─────────┐           │      │\neval_1: ────┤ H ├─────┤         ├┤0        ├───────────┤1 qft ├\n            ├───┤     │  c_Q**1 ││         │┌─────────┐│      │\neval_2: ────┤ H ├─────┤         ├┤  c_Q**2 ├┤0        ├┤2     ├\n        ┌───┴───┴────┐│         ││         ││  c_Q**4 │└──────┘\n   q_0: ┤ RY(1.0098) ├┤1        ├┤1        ├┤1        ├────────\n        └────────────┘└─────────┘└─────────┘└─────────┘        \nOrderedDict([('cx', 111), ('p', 100), ('u', 63)])\n"
     ]
    }
   ],
   "source": [
    "from qiskit import transpile\n",
    "\n",
    "basis_gates = ['cx', 'u', 'p']\n",
    "ae_circuit = ae.construct_circuit(bernoulli)\n",
    "print(ae_circuit.draw())\n",
    "print(transpile(ae_circuit, basis_gates=basis_gates, optimization_level=0).count_ops())"
   ]
  },
  {
   "cell_type": "code",
   "execution_count": 48,
   "metadata": {},
   "outputs": [
    {
     "output_type": "stream",
     "name": "stdout",
     "text": [
      "     ┌────────────┐┌───┐┌───┐┌───┐┌───┐\nq_0: ┤ RY(1.0098) ├┤ Q ├┤ Q ├┤ Q ├┤ Q ├\n     └────────────┘└───┘└───┘└───┘└───┘\nOrderedDict([('u', 37), ('p', 4)])\n"
     ]
    }
   ],
   "source": [
    "iae_circuit = iae.construct_circuit(bernoulli, 4)\n",
    "print(iae_circuit.draw())\n",
    "print(transpile(iae_circuit, basis_gates=basis_gates, optimization_level=0).count_ops())"
   ]
  },
  {
   "source": [
    "In some cases, however, powers of $\\mathcal{Q}$ (or the operator itself) can be optimized. In the Bernoulli-case we can calculate that \n",
    "\n",
    "$$\n",
    "\\mathcal{Q}^{k} = RY(2k\\theta_p)\n",
    "$$\n",
    "\n",
    "To pass this into the QAE algorithms we can specify the circuit for $\\mathcal{Q}$ directly."
   ],
   "cell_type": "markdown",
   "metadata": {}
  },
  {
   "cell_type": "code",
   "execution_count": 62,
   "metadata": {},
   "outputs": [],
   "source": [
    "q_operator = QuantumCircuit(1)\n",
    "q_operator.ry(2 * theta_p, 0)  # for the normal Q without any power, k=1\n",
    "\n",
    "# monkey patch the power method to ensure we always get efficient circuits\n",
    "def power(power):\n",
    "    q_power = QuantumCircuit(1)\n",
    "    q_power.ry(2 * power * theta_p, 0)\n",
    "    return q_power\n",
    "\n",
    "q_operator.power = power "
   ]
  },
  {
   "cell_type": "code",
   "execution_count": 63,
   "metadata": {},
   "outputs": [],
   "source": [
    "bernoulli_efficient = EstimationProblem(a_operator, grover_operator=q_operator, objective_qubits=[0])"
   ]
  },
  {
   "cell_type": "code",
   "execution_count": 69,
   "metadata": {},
   "outputs": [
    {
     "output_type": "stream",
     "name": "stdout",
     "text": [
      "Canonical QAE: OrderedDict([('p', 15), ('u', 13), ('cx', 12)])\nIterative QAE: OrderedDict([('u', 1)])\n"
     ]
    }
   ],
   "source": [
    "ae_circuit_efficient = ae.construct_circuit(bernoulli_efficient)\n",
    "print('Canonical QAE:', transpile(ae_circuit_efficient, basis_gates=basis_gates, optimization_level=0).count_ops())\n",
    "\n",
    "iae_circuit_efficient = iae.construct_circuit(bernoulli_efficient)\n",
    "print('Iterative QAE:', transpile(iae_circuit_efficient, basis_gates=basis_gates, optimization_level=0).count_ops())"
   ]
  },
  {
   "source": [
    "And the results are still the same:"
   ],
   "cell_type": "markdown",
   "metadata": {}
  },
  {
   "cell_type": "code",
   "execution_count": 73,
   "metadata": {},
   "outputs": [
    {
     "output_type": "stream",
     "name": "stdout",
     "text": [
      "Canonical QAE:\nGrid-based estimate: 0.1464466\nMLE-based estimate: 0.23454270771649652\n\nIterative QAE:\nResult: 0.23328207021372252\n"
     ]
    }
   ],
   "source": [
    "ae_result_efficient = ae.estimate(bernoulli)\n",
    "print('Canonical QAE:')\n",
    "print('Grid-based estimate:', ae_result_efficient.estimation)\n",
    "print('MLE-based estimate:', ae_result_efficient.mle)\n",
    "print()\n",
    "\n",
    "iae_result_efficient = iae.estimate(bernoulli_efficient)\n",
    "print('Iterative QAE:')\n",
    "print('Result:', iae_result_efficient.estimation)"
   ]
  },
  {
   "source": [
    "## Post-processing\n",
    "\n",
    "The QAE algorithm is formulated to estimate amplitudes of quantum states, therefore the result is always in $[0, 1]$. If we want to use the algorithm to estimate other quantities like e.g. expectation values or function integrations that are outside this range we have to apply some scaling to the unit interval and post-processing back to the original domain.\n",
    "\n",
    "Let's try to compute the integral of $f(x) = 10 \\sin^2(x)$ on the domain $[0, 1]$ on $N = 2^n$ discrete points\n",
    "\n",
    "$$\n",
    "    \\int_0^1 10 \\sin^2(x) dx \\approx \\frac{1}{N}\\sum_{i=0}^{N-1} 10 \\sin^2\\left(\\frac{i}{N}\\right) \n",
    "    = 10 |\\langle \\cdot 1 | \\psi \\rangle |^2 \n",
    "$$\n",
    "\n",
    "for \n",
    "\n",
    "$$\n",
    "    |\\psi\\rangle = \\frac{1}{\\sqrt{N}} \\sum_{i=0}^{N - 1}\\left[ \\cos\\left(\\frac{i}{N}\\right) |i\\rangle |0\\rangle + \\sin\\left(\\frac{i}{N}\\right) |i\\rangle |1\\rangle  \\right]\n",
    "$$,\n",
    "where $|\\cdot 1\\rangle$ means that we only care about the last qubit being in state 1 and trace out the rest.\n",
    "The state $|\\psi\\rangle$ can be prepared by a circuit with an initial layer of Hadamards followed by controlled Pauli-$Y$ rotations. For more detail see [3, 4].\n",
    "\n",
    "Note that we rescaled the amplitude by a factor of 10. In this example the rescaling consists only of a simple scalar multiplication, however for other applications -- such as finance -- the rescaling can be more complex.\n",
    "\n",
    "[3]\n",
    "\n",
    "[4]"
   ],
   "cell_type": "markdown",
   "metadata": {}
  },
  {
   "cell_type": "code",
   "execution_count": 95,
   "metadata": {},
   "outputs": [
    {
     "output_type": "stream",
     "name": "stdout",
     "text": [
      "          ┌───┐                                                                \nq_0: ─────┤ H ├───────────■────────────────────────────────────────────────────\n          ├───┤           │                                                    \nq_1: ─────┤ H ├───────────┼─────────────■──────────────────────────────────────\n          ├───┤           │             │                                      \nq_2: ─────┤ H ├───────────┼─────────────┼───────────■──────────────────────────\n          ├───┤           │             │           │                          \nq_3: ─────┤ H ├───────────┼─────────────┼───────────┼───────────■──────────────\n          ├───┤           │             │           │           │              \nq_4: ─────┤ H ├───────────┼─────────────┼───────────┼───────────┼─────────■────\n     ┌────┴───┴────┐┌─────┴──────┐┌─────┴─────┐┌────┴─────┐┌────┴────┐┌───┴───┐\nq_5: ┤ RY(0.03125) ├┤ RY(0.0625) ├┤ RY(0.125) ├┤ RY(0.25) ├┤ RY(0.5) ├┤ RY(1) ├\n     └─────────────┘└────────────┘└───────────┘└──────────┘└─────────┘└───────┘\n"
     ]
    }
   ],
   "source": [
    "n = 5\n",
    "sine_operator = QuantumCircuit(n + 1)\n",
    "sine_operator.h(range(n))\n",
    "sine_operator.ry(1 / 2 ** n, n)\n",
    "for i in range(n):\n",
    "    sine_operator.cry(2 * 2 ** i / 2 ** n, i, n)\n",
    "\n",
    "print(sine_operator.draw())"
   ]
  },
  {
   "source": [
    "If we now run QAE on this example, our result will miss a factor of 10:"
   ],
   "cell_type": "markdown",
   "metadata": {}
  },
  {
   "cell_type": "code",
   "execution_count": 96,
   "metadata": {},
   "outputs": [
    {
     "output_type": "stream",
     "name": "stdout",
     "text": [
      "Result: 0.2718484400425695\nCI: (0.2689401949625418, 0.2747566851225971)\n"
     ]
    }
   ],
   "source": [
    "sine = EstimationProblem(sine_operator, objective_qubits=[n]) # the last qubit is the objective that must be |1>\n",
    "\n",
    "iae = IterativeAmplitudeEstimation(0.01, 0.05, quantum_instance=backend)\n",
    "result = iae.estimate(sine)\n",
    "print('Result:', result.estimation)\n",
    "print('CI:', result.confidence_interval)"
   ]
  },
  {
   "source": [
    "We can either remember the rescaling and apply it manually, but we can also enter this information into the `EstimationProblem` and conveniently keep all information in one place."
   ],
   "cell_type": "markdown",
   "metadata": {}
  },
  {
   "cell_type": "code",
   "execution_count": 97,
   "metadata": {},
   "outputs": [
    {
     "output_type": "stream",
     "name": "stdout",
     "text": [
      "Rescaled result: 2.736050750511325\nRescaled CI: (2.706907326621893, 2.7651941744007575)\n"
     ]
    }
   ],
   "source": [
    "sine.post_processing = lambda value: 10 * value\n",
    "\n",
    "result = iae.estimate(sine)\n",
    "print('Rescaled result:', result.estimation_processed)  # estimation is always unscaled, while *_processed is scaled\n",
    "print('Rescaled CI:', result.confidence_interval_processed)"
   ]
  },
  {
   "cell_type": "code",
   "execution_count": 99,
   "metadata": {},
   "outputs": [],
   "source": [
    "from scipy.integrate import quad\n",
    "reference_value, _ = quad(lambda x: 10 * numpy.sin(x)**2, 0, 1)"
   ]
  },
  {
   "cell_type": "code",
   "execution_count": 102,
   "metadata": {},
   "outputs": [
    {
     "output_type": "stream",
     "name": "stdout",
     "text": [
      "Reference value: 2.7267564329357956\nError: 0.009294317575529565\n"
     ]
    }
   ],
   "source": [
    "print('Reference value:', reference_value)\n",
    "print('Error:', abs(reference_value - result.estimation_processed))"
   ]
  },
  {
   "cell_type": "code",
   "execution_count": null,
   "metadata": {},
   "outputs": [],
   "source": []
  }
 ]
}