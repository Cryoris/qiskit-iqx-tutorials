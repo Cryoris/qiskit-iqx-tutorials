{
 "metadata": {
  "language_info": {
   "codemirror_mode": {
    "name": "ipython",
    "version": 3
   },
   "file_extension": ".py",
   "mimetype": "text/x-python",
   "name": "python",
   "nbconvert_exporter": "python",
   "pygments_lexer": "ipython3",
   "version": "3.8.5-final"
  },
  "orig_nbformat": 2,
  "kernelspec": {
   "name": "python38564bitdevqiskitvenv9cc9c3c386a84b92879ea5276a98e69b",
   "display_name": "Python 3.8.5 64-bit ('dev-qiskit': venv)"
  }
 },
 "nbformat": 4,
 "nbformat_minor": 2,
 "cells": [
  {
   "source": [
    "# Grover's Algorithm and the Amplitude Amplification\n",
    "\n",
    "Grover's algorithm is one of the most famous quantum algorithm. Grover's algorithm is a very powerful and useful algorithm in a wide range of fiealds. For the details of Grover's algorithm, please see [Grover's Algorithm](https://qiskit.org/textbook/ch-algorithms/grover.html) in the Qiskit textbook.\n",
    "\n",
    "Qiskit Aqua has a special class named `Grover` for Grover's algorithm. `Grover` can specify various problem configurations with its parameters such as oracles, state preparation circuits, the number of the iterations, and so on."
   ],
   "cell_type": "markdown",
   "metadata": {}
  },
  {
   "source": [
    "## Grover's algorithm\n",
    "### Running Grover's algorithm with the `Grover` class\n",
    "To run Grover's algorithm with the `Grover` class, firstly, we need to specify an oracle for the circuit of Grover's algorithm. In the following example, we use `QuantumCircuit` as the oracle of Grover's algorithm. However, there are several other class that we can use as the oracle of Grover's algorithm. We talk about them laster in this tutorial. To specify the oracle, we just simply pass `QuantumCircuit` for the oracle. Note that the oracle for `Grover` mush be one that changes the phase of \"good state\" (those state are called as `good_state`) in `Grover`. If you'd like to use an ancilla bit and a CNOT gate to change the phase of \"good state\", please don't forget to put an X gate and an Hadamard gate onto the target bit of the CNOT gate.\n",
    "\n"
   ],
   "cell_type": "markdown",
   "metadata": {}
  },
  {
   "cell_type": "code",
   "execution_count": 19,
   "metadata": {},
   "outputs": [
    {
     "output_type": "stream",
     "name": "stdout",
     "text": [
      "        \nq_0: ─■─\n      │ \nq_1: ─■─\n        \n"
     ]
    }
   ],
   "source": [
    "from qiskit import QuantumCircuit\n",
    "from qiskit.aqua.algorithms import Grover\n",
    "\n",
    "#`QuantumCircuit` as the `oracle` argument\n",
    "oracle = QuantumCircuit(2)\n",
    "oracle.cz(0, 1)\n",
    "grover = Grover(oracle=oracle, good_state=['11'])\n",
    "# oracle\n",
    "print(grover._grover_operator.oracle)"
   ]
  },
  {
   "cell_type": "code",
   "execution_count": 20,
   "metadata": {},
   "outputs": [
    {
     "output_type": "stream",
     "name": "stdout",
     "text": [
      "            ┌───┐┌───┐          ┌───┐┌───┐     \nstate_0: ─■─┤ H ├┤ X ├───────■──┤ X ├┤ H ├─────\n          │ ├───┤├───┤┌───┐┌─┴─┐├───┤├───┤┌───┐\nstate_1: ─■─┤ H ├┤ X ├┤ H ├┤ X ├┤ H ├┤ X ├┤ H ├\n            └───┘└───┘└───┘└───┘└───┘└───┘└───┘\n"
     ]
    }
   ],
   "source": [
    "# Grover operator\n",
    "print(grover._grover_operator)"
   ]
  },
  {
   "source": [
    "Then, we specify a backend and call the `run` method of `Grover` with the backend. The result of `run` will be `GroverResult`. `oracle_evaluation` of `GroverResult` will be `True` if `top_measurment` is one of \"good state\". Otherwise, `oracle_evaluation` will be False.\n"
   ],
   "cell_type": "markdown",
   "metadata": {}
  },
  {
   "cell_type": "code",
   "execution_count": 6,
   "metadata": {},
   "outputs": [
    {
     "output_type": "stream",
     "name": "stdout",
     "text": [
      "<class 'qiskit.aqua.algorithms.amplitude_amplifiers.grover.GroverResult'>\n{'measurement': {'11': 1024}, 'top_measurement': '11', 'circuit': <qiskit.circuit.quantumcircuit.QuantumCircuit object at 0x124bdfa60>, 'assignment': '11', 'oracle_evaluation': True}\n"
     ]
    }
   ],
   "source": [
    "from qiskit import BasicAer\n",
    "from qiskit.aqua import QuantumInstance\n",
    "\n",
    "qasm_simulator = QuantumInstance(BasicAer.get_backend('qasm_simulator'))\n",
    "result = grover.run(quantum_instance=qasm_simulator)\n",
    "print(type(result))\n",
    "print(result)\n"
   ]
  },
  {
   "source": [
    "In the example, the result of `top_measurement` is `11` which is one of \"good state\". Thus, we succeeded to find the answer by using `Grover`."
   ],
   "cell_type": "markdown",
   "metadata": {}
  },
  {
   "source": [
    "### Using the different types of classes as the oracle of `Grover`\n",
    "In the above example, we used `QuantumCircuit` as the oracle of `Grover`. \n",
    "We can also use `Oracle`, and `StateVector` as `oracle`.\n",
    "All the following examples are when $|11\\rangle$ is \"good state\"\n",
    "\n",
    "Note that `Oracle` has 3 subclasses. They are `LogicalExpressionOracle`, `TrutheTableOracle`, and `CustomCircuitOracle`. Each of them aims for different usecases. For example, `LogicalExpressionOracle` is expecially useful for solving 3-SAT problems (see [Using Grover's Algorithm to Perform Quantum Search](https://github.com/qiskit-community/qiskit-community-tutorials/blob/master/optimization/grover.ipynb) in Qiskit-community-tutorials).\n"
   ],
   "cell_type": "markdown",
   "metadata": {}
  },
  {
   "source": [
    "Note that, in the following `LogicalExpressionOracle` example, `LogicalExpressionOracle` uses an ancilla bit to flip the phase of the good state by using the phase kickback ([Phase Kickback](https://qiskit.org/textbook/ch-gates/phase-kickback.html)). You don't need to pass `good_state` in `Grover` since `Oracle` itsself has `evaluate_classically()` for checking whether an answer is correct or not."
   ],
   "cell_type": "markdown",
   "metadata": {}
  },
  {
   "cell_type": "code",
   "execution_count": 21,
   "metadata": {
    "tags": []
   },
   "outputs": [
    {
     "output_type": "stream",
     "name": "stdout",
     "text": "                              \nq_0: ────────────■────────────\n                 │            \nq_1: ────────────■────────────\n     ┌───┐┌───┐┌─┴─┐┌───┐┌───┐\nq_2: ┤ X ├┤ H ├┤ X ├┤ H ├┤ X ├\n     └───┘└───┘└───┘└───┘└───┘\n"
    }
   ],
   "source": [
    "from qiskit.aqua.components.oracles import LogicalExpressionOracle\n",
    "\n",
    "# `Oracle` (`LogicalExpressionOracle`) as the `oracle` argument\n",
    "expression = '(a & b)'\n",
    "oracle = LogicalExpressionOracle(expression)\n",
    "grover = Grover(oracle=oracle)\n",
    "print(grover._grover_operator.oracle)"
   ]
  },
  {
   "cell_type": "code",
   "execution_count": 8,
   "metadata": {
    "tags": []
   },
   "outputs": [
    {
     "output_type": "stream",
     "name": "stdout",
     "text": "     ┌─────────────┐              \nq_0: ┤0            ├──────────────\n     │  UCRZ(0,pi) │┌────────────┐\nq_1: ┤1            ├┤ UCRZ(pi/2) ├\n     └─────────────┘└────────────┘\n"
    }
   ],
   "source": [
    "from qiskit.quantum_info import Statevector\n",
    "oracle = Statevector.from_label('11')\n",
    "grover = Grover(oracle=oracle, good_state=['11'])\n",
    "print(grover._grover_operator.oracle)\n"
   ]
  },
  {
   "source": [
    "## Amplitude amplification\n",
    "Grover's algorithm uses Hadamard gates to create the uniform superposition of all the states at the beginning of the grover circuit (called a `state_preparation` circuit in `Grover`). We can use other gates to create the uniform superposition of specific states and we can also use them instead of those Hadamard gates in usual grover circuits. By using the uniform superposition of specific states at the start point of Grover's search, it is possible to reduce the search space of Grover's search for more efficient search. When the uniform superposition of specific states is used for the start of Grover's algorithm, the algorithm is called as the _amplitude amplification_. \n",
    "\n",
    "### State preparation\n",
    "A `state_preparation` argument is used to specify a quantum circuit that prepares a quantum state for the start point of the amplitude amplification.\n",
    "By default, a circuit with $H^{\\otimes n} $ is used to prepare uniform superposition (so it will be Grover's serach). The diffusion circuit of the amplitude amplification relrects `state_preparation` automatically."
   ],
   "cell_type": "markdown",
   "metadata": {}
  },
  {
   "source": [
    "import numpy as np\n",
    "\n",
    "# Specifying `state_preparation` \n",
    "# to preparet a superposition of |01>, |10>, and |11>\n",
    "oracle = QuantumCircuit(3)\n",
    "oracle.h(2)\n",
    "oracle.ccx(0,1,2)\n",
    "oracle.h(2)\n",
    "\n",
    "theta = 2 * np.arccos(1 / np.sqrt(3))\n",
    "state_preparation = QuantumCircuit(3)\n",
    "state_preparation.ry(theta, 0)\n",
    "state_preparation.ch(0,1)\n",
    "state_preparation.x(1)\n",
    "state_preparation.h(2)\n",
    "grover = Grover(oracle=oracle, state_preparation=state_preparation,good_state=['11'])\n",
    "# state_preparation\n",
    "print(grover._grover_operator.state_preparation)\n"
   ],
   "cell_type": "code",
   "metadata": {
    "tags": []
   },
   "execution_count": 18,
   "outputs": [
    {
     "output_type": "stream",
     "name": "stdout",
     "text": [
      "     ┌────────────┐          \nq_0: ┤ RY(1.9106) ├──■───────\n     └────────────┘┌─┴─┐┌───┐\nq_1: ──────────────┤ H ├┤ X ├\n         ┌───┐     └───┘└───┘\nq_2: ────┤ H ├───────────────\n         └───┘               \n"
     ]
    }
   ]
  },
  {
   "cell_type": "code",
   "execution_count": 17,
   "metadata": {
    "tags": []
   },
   "outputs": [
    {
     "output_type": "stream",
     "name": "stdout",
     "text": [
      "                             ┌─────────────┐┌───┐     ┌───┐┌────────────┐     »\nstate_0: ───────■─────────■──┤ RY(-1.9106) ├┤ X ├──■──┤ X ├┤ RY(1.9106) ├──■──»\n                │  ┌───┐┌─┴─┐└────┬───┬────┘└───┘  │  ├───┤└────────────┘┌─┴─┐»\nstate_1: ───────■──┤ X ├┤ H ├─────┤ X ├────────────■──┤ X ├──────────────┤ H ├»\n         ┌───┐┌─┴─┐├───┤├───┤     ├───┤     ┌───┐┌─┴─┐├───┤    ┌───┐     ├───┤»\nstate_2: ┤ H ├┤ X ├┤ H ├┤ H ├─────┤ X ├─────┤ H ├┤ X ├┤ H ├────┤ X ├─────┤ H ├»\n         └───┘└───┘└───┘└───┘     └───┘     └───┘└───┘└───┘    └───┘     └───┘»\n«              \n«state_0: ─────\n«         ┌───┐\n«state_1: ┤ X ├\n«         └───┘\n«state_2: ─────\n«              \n"
     ]
    }
   ],
   "source": [
    "# Grover operator\n",
    "print(grover._grover_operator)\n"
   ]
  },
  {
   "source": [
    "Fore more complicated oracles, state preparation, and options (e.g. `mcx_mode`), we can also pass `GroverOperator` to `Grover`."
   ],
   "cell_type": "markdown",
   "metadata": {}
  },
  {
   "cell_type": "code",
   "execution_count": 41,
   "metadata": {
    "tags": []
   },
   "outputs": [
    {
     "output_type": "stream",
     "name": "stdout",
     "text": "             ░           ┌─────────────┐ ░ ┌───┐          ┌───┐      ░ »\nstate_0: ─■──░────────■──┤ RY(-1.9106) ├─░─┤ X ├───────■──┤ X ├──────░─»\n          │  ░ ┌───┐┌─┴─┐└─────────────┘ ░ ├───┤┌───┐┌─┴─┐├───┤┌───┐ ░ »\nstate_1: ─■──░─┤ X ├┤ H ├────────────────░─┤ X ├┤ H ├┤ X ├┤ H ├┤ X ├─░─»\n             ░ └───┘└───┘                ░ └───┘└───┘└───┘└───┘└───┘ ░ »\n«         ┌────────────┐          \n«state_0: ┤ RY(1.9106) ├──■───────\n«         └────────────┘┌─┴─┐┌───┐\n«state_1: ──────────────┤ H ├┤ X ├\n«                       └───┘└───┘\n"
    }
   ],
   "source": [
    "from qiskit.circuit.library import GroverOperator\n",
    "oracle = QuantumCircuit(2)\n",
    "oracle.cz(0,1)\n",
    "state_preparation = QuantumCircuit(2)\n",
    "theta = 2 * np.arccos(1 / np.sqrt(3))\n",
    "state_preparation = QuantumCircuit(2)\n",
    "state_preparation.ry(theta, 0)\n",
    "state_preparation.ch(0,1)\n",
    "state_preparation.x(1)\n",
    "grover_op = GroverOperator(oracle=oracle, state_preparation=state_preparation, insert_barriers=True, mcx_mode='noancilla')\n",
    "\n",
    "grover=Grover(oracle=grover_op.oracle, grover_operator=grover_op)\n",
    "print(grover._grover_operator)\n"
   ]
  },
  {
   "source": [
    "## Dive into other arguments of `Grover`\n",
    "`Grover` has arugments other than `oracle` and `state_preparation`. We will explain them in this section.\n",
    "\n",
    "### Specifying `good_state`\n",
    "`good_state` is used to check whether the measument result is correct or not internally. It can be a list of binary strings, a list of integer variable `Statevector`, and Callable. \n",
    "\n",
    "\n"
   ],
   "cell_type": "markdown",
   "metadata": {}
  },
  {
   "cell_type": "code",
   "execution_count": 44,
   "metadata": {
    "tags": []
   },
   "outputs": [
    {
     "output_type": "stream",
     "name": "stdout",
     "text": "True\n"
    }
   ],
   "source": [
    "# list good state\n",
    "oracle = QuantumCircuit(2)\n",
    "oracle.cz(0, 1)\n",
    "good_state = ['11', '00']\n",
    "grover = Grover(oracle=oracle, good_state=good_state)\n",
    "print(grover.is_good_state('11'))\n"
   ]
  },
  {
   "cell_type": "code",
   "execution_count": 45,
   "metadata": {
    "tags": []
   },
   "outputs": [
    {
     "output_type": "stream",
     "name": "stdout",
     "text": "True\n"
    }
   ],
   "source": [
    "# `Statevector` good state\n",
    "oracle = QuantumCircuit(2)\n",
    "oracle.cz(0, 1)\n",
    "good_state = Statevector.from_label('11')\n",
    "grover = Grover(oracle=oracle, good_state=good_state)\n",
    "print(grover.is_good_state('11'))"
   ]
  },
  {
   "cell_type": "code",
   "execution_count": 47,
   "metadata": {
    "tags": []
   },
   "outputs": [
    {
     "output_type": "stream",
     "name": "stdout",
     "text": "True\n"
    }
   ],
   "source": [
    "# Callable good state\n",
    "def callable_good_state(bitstr):\n",
    "    if bitstr == \"11\":\n",
    "        return True\n",
    "    else:\n",
    "        return False\n",
    "\n",
    "oracle = QuantumCircuit(2)\n",
    "oracle.cz(0, 1)\n",
    "grover = Grover(oracle=oracle, good_state=callable_good_state)\n",
    "print(grover.is_good_state('11'))"
   ]
  },
  {
   "source": [
    "## The repetition of the Grover's algortihm\n",
    "The number of repetition of applying the grover operator is important to obtain the correct result with Grover's algortihm. The number of iteration can be set by the `iteration` argument of `Grover`. `iteration` can be an integer or a list of integers. If `iteration` is an integer, `Grover` repeat applying its grover operator the number of `iteration` times. If `iteration` is a list of integer, `Grover` repeat applying its grover operator the number of `iteration` times in order. When `sample_from_iterations` is `True`, a randome integer between 0 and the specified number in `iteration` is used as the repetation number of grover iteration. For more details of the algorithm using `sample_from_iterations`, see \"\n",
    "L. K. Grover (1996), A fast quantum mechanical algorithm for database search,\n",
    "            [arXiv:quant-ph/9605043](https://arxiv.org/abs/quant-ph/9605043)\"\n",
    "\n",
    "\n"
   ],
   "cell_type": "markdown",
   "metadata": {}
  },
  {
   "source": [
    "## Constructing quantum circuits for Grover's algorithm\n",
    "A quantum circuit for Grover's algorithm mainly consists of two parts. One is an oracle and the other one is state preparation (including diffusion). \n",
    "\n",
    "### Oracle\n",
    "For an oracle, `Grover` has an `oracle` argument. `QuantumCircuit`, `Oracle`, and `StateVector` can be passed as `oracle`. All the following examples are when $|11\\rangle$ is a state that we would like to find. Those state are called `good_state` in `Grover`. \n",
    "\n",
    "Note that `Oracle` has 3 subclasses. They are `LogicalExpressionOracle`, `TrutheTableOracle`, and `CustomCircuitOracle`. Each of them aims for different usecases. For example, `LogicalExpressionOracle` is expecially useful for solving 3-SAT problems (see [Using Grover's Algorithm to Perform Quantum Search](https://github.com/qiskit-community/qiskit-community-tutorials/blob/master/optimization/grover.ipynb) in Qiskit-community-tutorials)."
   ],
   "cell_type": "markdown",
   "metadata": {}
  }
 ]
}